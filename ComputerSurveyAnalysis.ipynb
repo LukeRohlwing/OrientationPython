{
 "cells": [
  {
   "cell_type": "code",
   "execution_count": 4,
   "id": "be0419cd",
   "metadata": {},
   "outputs": [],
   "source": [
    "import numpy as np\n",
    "import pandas as pd\n",
    "import matplotlib.pyplot as plt"
   ]
  },
  {
   "cell_type": "code",
   "execution_count": 3,
   "id": "dfa42baf",
   "metadata": {},
   "outputs": [
    {
     "data": {
      "text/html": [
       "<div>\n",
       "<style scoped>\n",
       "    .dataframe tbody tr th:only-of-type {\n",
       "        vertical-align: middle;\n",
       "    }\n",
       "\n",
       "    .dataframe tbody tr th {\n",
       "        vertical-align: top;\n",
       "    }\n",
       "\n",
       "    .dataframe thead th {\n",
       "        text-align: right;\n",
       "    }\n",
       "</style>\n",
       "<table border=\"1\" class=\"dataframe\">\n",
       "  <thead>\n",
       "    <tr style=\"text-align: right;\">\n",
       "      <th></th>\n",
       "      <th>Timestamp</th>\n",
       "      <th>Operating System</th>\n",
       "      <th>CPU Cycle Rate (in GHz)</th>\n",
       "      <th>CPU Number of Cores (int)</th>\n",
       "      <th>RAM (in GB)</th>\n",
       "      <th>Hard Drive Size (in GB)</th>\n",
       "      <th>GPU (short description as a string)</th>\n",
       "      <th>GPU CUDA Number of Cores (int)</th>\n",
       "    </tr>\n",
       "  </thead>\n",
       "  <tbody>\n",
       "    <tr>\n",
       "      <th>0</th>\n",
       "      <td>6/13/2023 13:21:08</td>\n",
       "      <td>Windows</td>\n",
       "      <td>3.0</td>\n",
       "      <td>8</td>\n",
       "      <td>16</td>\n",
       "      <td>935</td>\n",
       "      <td>NVIDIA GeForce RTX 2060 with Max-Q Design</td>\n",
       "      <td>5888</td>\n",
       "    </tr>\n",
       "    <tr>\n",
       "      <th>1</th>\n",
       "      <td>6/13/2023 13:23:33</td>\n",
       "      <td>I use Mac and Linux</td>\n",
       "      <td>2133.0</td>\n",
       "      <td>2</td>\n",
       "      <td>8</td>\n",
       "      <td>250</td>\n",
       "      <td>Intel Iris Plus Graphics</td>\n",
       "      <td>1</td>\n",
       "    </tr>\n",
       "    <tr>\n",
       "      <th>2</th>\n",
       "      <td>6/13/2023 13:24:29</td>\n",
       "      <td>MacOS</td>\n",
       "      <td>3.2</td>\n",
       "      <td>8</td>\n",
       "      <td>8</td>\n",
       "      <td>256</td>\n",
       "      <td>M1</td>\n",
       "      <td>8</td>\n",
       "    </tr>\n",
       "    <tr>\n",
       "      <th>3</th>\n",
       "      <td>6/13/2023 13:25:04</td>\n",
       "      <td>MacOS</td>\n",
       "      <td>3.6</td>\n",
       "      <td>12</td>\n",
       "      <td>32</td>\n",
       "      <td>1000</td>\n",
       "      <td>M2 Max</td>\n",
       "      <td>38</td>\n",
       "    </tr>\n",
       "    <tr>\n",
       "      <th>4</th>\n",
       "      <td>6/13/2023 13:25:31</td>\n",
       "      <td>Windows</td>\n",
       "      <td>2.3</td>\n",
       "      <td>8</td>\n",
       "      <td>16</td>\n",
       "      <td>500</td>\n",
       "      <td>NVIDIA GeForce RTX 3050 Ti Laptop GPU</td>\n",
       "      <td>2560</td>\n",
       "    </tr>\n",
       "  </tbody>\n",
       "</table>\n",
       "</div>"
      ],
      "text/plain": [
       "            Timestamp     Operating System  CPU Cycle Rate (in GHz)  \\\n",
       "0  6/13/2023 13:21:08              Windows                      3.0   \n",
       "1  6/13/2023 13:23:33  I use Mac and Linux                   2133.0   \n",
       "2  6/13/2023 13:24:29                MacOS                      3.2   \n",
       "3  6/13/2023 13:25:04                MacOS                      3.6   \n",
       "4  6/13/2023 13:25:31              Windows                      2.3   \n",
       "\n",
       "   CPU Number of Cores (int)  RAM (in GB)  Hard Drive Size (in GB)  \\\n",
       "0                          8           16                      935   \n",
       "1                          2            8                      250   \n",
       "2                          8            8                      256   \n",
       "3                         12           32                     1000   \n",
       "4                          8           16                      500   \n",
       "\n",
       "         GPU (short description as a string)  GPU CUDA Number of Cores (int)  \n",
       "0  NVIDIA GeForce RTX 2060 with Max-Q Design                            5888  \n",
       "1                   Intel Iris Plus Graphics                               1  \n",
       "2                                         M1                               8  \n",
       "3                                     M2 Max                              38  \n",
       "4      NVIDIA GeForce RTX 3050 Ti Laptop GPU                            2560  "
      ]
     },
     "execution_count": 3,
     "metadata": {},
     "output_type": "execute_result"
    }
   ],
   "source": [
    "data = pd.read_csv(\"ComputerSurveyData.csv\")\n",
    "data.head()"
   ]
  },
  {
   "cell_type": "code",
   "execution_count": 8,
   "id": "c09fe2e1",
   "metadata": {},
   "outputs": [
    {
     "data": {
      "text/plain": [
       "(array([56.,  3.,  0.,  0.,  2.,  0.,  0.,  0.,  0.,  1.]),\n",
       " array([   0. ,  588.8, 1177.6, 1766.4, 2355.2, 2944. , 3532.8, 4121.6,\n",
       "        4710.4, 5299.2, 5888. ]),\n",
       " <BarContainer object of 10 artists>)"
      ]
     },
     "execution_count": 8,
     "metadata": {},
     "output_type": "execute_result"
    },
    {
     "data": {
      "image/png": "[encoded data removed]",
      "text/plain": [
       "<Figure size 640x480 with 1 Axes>"
      ]
     },
     "metadata": {},
     "output_type": "display_data"
    }
   ],
   "source": [
    "plt.hist(data[\"GPU CUDA Number of Cores (int)\"])"
   ]
  },
  {
   "cell_type": "code",
   "execution_count": null,
   "id": "05eade4a",
   "metadata": {},
   "outputs": [
    {
     "data": {
      "text/plain": [
       "(array([31., 22.,  7.,  0.,  1.,  0.,  0.,  0.,  0.,  1.]),\n",
       " array([  16. ,  414.4,  812.8, 1211.2, 1609.6, 2008. , 2406.4, 2804.8,\n",
       "        3203.2, 3601.6, 4000. ]),\n",
       " <BarContainer object of 10 artists>)"
      ]
     },
     "metadata": {},
     "output_type": "display_data"
    },
    {
     "data": {
      "image/png": "[encoded data removed]",
      "text/plain": [
       "<Figure size 640x480 with 1 Axes>"
      ]
     },
     "metadata": {},
     "output_type": "display_data"
    }
   ],
   "source": [
    "plt.hist(data[\"Hard Drive Size (in GB)\"])"
   ]
  },
  {
   "cell_type": "code",
   "execution_count": null,
   "id": "beae0845",
   "metadata": {},
   "outputs": [
    {
     "data": {
      "text/plain": [
       "(array([13.,  0., 23.,  1.,  3.,  0., 12.,  0.,  8.,  2.]),\n",
       " array([ 2.,  3.,  4.,  5.,  6.,  7.,  8.,  9., 10., 11., 12.]),\n",
       " <BarContainer object of 10 artists>)"
      ]
     },
     "metadata": {},
     "output_type": "display_data"
    },
    {
     "data": {
      "image/png": "[encoded data removed]",
      "text/plain": [
       "<Figure size 640x480 with 1 Axes>"
      ]
     },
     "metadata": {},
     "output_type": "display_data"
    }
   ],
   "source": [
    "plt.hist(data[\"CPU Number of Cores (int)\"])"
   ]
  },
  {
   "cell_type": "code",
   "execution_count": null,
   "id": "6e316dde",
   "metadata": {},
   "outputs": [
    {
     "data": {
      "text/plain": [
       "(array([33.,  0., 23.,  0.,  4.,  0.,  0.,  0.,  0.,  2.]),\n",
       " array([ 4., 10., 16., 22., 28., 34., 40., 46., 52., 58., 64.]),\n",
       " <BarContainer object of 10 artists>)"
      ]
     },
     "metadata": {},
     "output_type": "display_data"
    },
    {
     "data": {
      "image/png": "[encoded data removed]",
      "text/plain": [
       "<Figure size 640x480 with 1 Axes>"
      ]
     },
     "metadata": {},
     "output_type": "display_data"
    }
   ],
   "source": [
    "plt.hist(data[\"RAM (in GB)\"])"
   ]
  },
  {
   "cell_type": "code",
   "execution_count": null,
   "id": "8c7d8194",
   "metadata": {},
   "outputs": [],
   "source": []
  }
 ],
 "metadata": {
  "kernelspec": {
   "display_name": "Python 3 (ipykernel)",
   "language": "python",
   "name": "python3"
  },
  "language_info": {
   "codemirror_mode": {
    "name": "ipython",
    "version": 3
   },
   "file_extension": ".py",
   "mimetype": "text/x-python",
   "name": "python",
   "nbconvert_exporter": "python",
   "pygments_lexer": "ipython3",
   "version": "3.11.3"
  }
 },
 "nbformat": 4,
 "nbformat_minor": 5
}
