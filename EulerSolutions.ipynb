{
 "cells": [
  {
   "cell_type": "code",
   "execution_count": 2,
   "id": "be0419cd",
   "metadata": {},
   "outputs": [],
   "source": [
    "import numpy as np\n",
    "import pandas as pd\n",
    "import matplotlib"
   ]
  },
  {
   "attachments": {},
   "cell_type": "markdown",
   "id": "dec0c90d",
   "metadata": {},
   "source": [
    "### Euler Problem 1"
   ]
  },
  {
   "cell_type": "code",
   "execution_count": 4,
   "id": "140ec9d0",
   "metadata": {},
   "outputs": [
    {
     "data": {
      "text/plain": [
       "233168"
      ]
     },
     "execution_count": 4,
     "metadata": {},
     "output_type": "execute_result"
    }
   ],
   "source": [
    "multiples = []\n",
    "for x in range(1000):\n",
    "    if (x % 3 == 0) or (x % 5 == 0):\n",
    "        multiples.append(x)\n",
    "    else:\n",
    "        continue\n",
    "\n",
    "sum(multiples)"
   ]
  },
  {
   "attachments": {},
   "cell_type": "markdown",
   "id": "7ab1d836",
   "metadata": {},
   "source": [
    "### Euler Problem 2"
   ]
  },
  {
   "cell_type": "code",
   "execution_count": 14,
   "id": "c29350fe",
   "metadata": {},
   "outputs": [
    {
     "data": {
      "text/plain": [
       "4613732"
      ]
     },
     "execution_count": 14,
     "metadata": {},
     "output_type": "execute_result"
    }
   ],
   "source": [
    "fib = [1,2]\n",
    "\n",
    "while fib[-1] <= 4000000:\n",
    "    addition = fib[-1] + fib[-2]\n",
    "    fib.append(addition)\n",
    "\n",
    "evenTerms = []\n",
    "for y in fib:\n",
    "    if y % 2 == 0:\n",
    "        evenTerms.append(y)\n",
    "\n",
    "sum(evenTerms)"
   ]
  },
  {
   "attachments": {},
   "cell_type": "markdown",
   "id": "ef5edbad",
   "metadata": {},
   "source": [
    "### Euler Problem 3"
   ]
  },
  {
   "cell_type": "code",
   "execution_count": 17,
   "id": "f79c81ba",
   "metadata": {},
   "outputs": [
    {
     "ename": "KeyboardInterrupt",
     "evalue": "",
     "output_type": "error",
     "traceback": [
      "\u001b[1;31m---------------------------------------------------------------------------\u001b[0m",
      "\u001b[1;31mKeyboardInterrupt\u001b[0m                         Traceback (most recent call last)",
      "Cell \u001b[1;32mIn[17], line 3\u001b[0m\n\u001b[0;32m      1\u001b[0m factors \u001b[39m=\u001b[39m []\n\u001b[0;32m      2\u001b[0m bigNumber \u001b[39m=\u001b[39m \u001b[39m600851475143\u001b[39m\n\u001b[1;32m----> 3\u001b[0m \u001b[39mfor\u001b[39;00m x \u001b[39min\u001b[39;00m \u001b[39mrange\u001b[39m(\u001b[39m1\u001b[39m,bigNumber):\n\u001b[0;32m      4\u001b[0m     \u001b[39mif\u001b[39;00m bigNumber \u001b[39m%\u001b[39m x \u001b[39m==\u001b[39m \u001b[39m0\u001b[39m:\n\u001b[0;32m      5\u001b[0m         factors\u001b[39m.\u001b[39mappend(x)\n",
      "\u001b[1;31mKeyboardInterrupt\u001b[0m: "
     ]
    }
   ],
   "source": [
    "factors = []\n",
    "bigNumber = 600851475143\n",
    "for x in range(1,bigNumber):\n",
    "    if bigNumber % x == 0:\n",
    "        factors.append(x)\n",
    "factors"
   ]
  },
  {
   "cell_type": "code",
   "execution_count": 19,
   "id": "df67589c",
   "metadata": {},
   "outputs": [
    {
     "data": {
      "text/plain": [
       "2865420375"
      ]
     },
     "execution_count": 19,
     "metadata": {},
     "output_type": "execute_result"
    }
   ],
   "source": [
    "x"
   ]
  },
  {
   "cell_type": "code",
   "execution_count": 20,
   "id": "f76cadd7",
   "metadata": {},
   "outputs": [
    {
     "data": {
      "text/plain": [
       "6857"
      ]
     },
     "execution_count": 20,
     "metadata": {},
     "output_type": "execute_result"
    }
   ],
   "source": [
    "def isPrime(n):\n",
    "   if n <= 1 or n % 1 > 0:\n",
    "      return False\n",
    "   for i in range(2, n//2):\n",
    "      if n % i == 0:\n",
    "         return False\n",
    "   return True\n",
    "\n",
    "primeFactors = []\n",
    "for x in factors:\n",
    "   if isPrime(x):\n",
    "      primeFactors.append(x)\n",
    "\n",
    "primeFactors[-1]"
   ]
  },
  {
   "cell_type": "code",
   "execution_count": null,
   "id": "6727285a",
   "metadata": {},
   "outputs": [],
   "source": []
  }
 ],
 "metadata": {
  "kernelspec": {
   "display_name": "Python 3 (ipykernel)",
   "language": "python",
   "name": "python3"
  },
  "language_info": {
   "codemirror_mode": {
    "name": "ipython",
    "version": 3
   },
   "file_extension": ".py",
   "mimetype": "text/x-python",
   "name": "python",
   "nbconvert_exporter": "python",
   "pygments_lexer": "ipython3",
   "version": "3.11.3"
  }
 },
 "nbformat": 4,
 "nbformat_minor": 5
}
